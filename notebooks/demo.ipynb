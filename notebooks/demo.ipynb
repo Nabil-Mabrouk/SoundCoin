{
 "cells": [
  {
   "cell_type": "code",
   "execution_count": 2,
   "metadata": {},
   "outputs": [
    {
     "ename": "ModuleNotFoundError",
     "evalue": "No module named 'moviepy'",
     "output_type": "error",
     "traceback": [
      "\u001b[1;31m---------------------------------------------------------------------------\u001b[0m",
      "\u001b[1;31mModuleNotFoundError\u001b[0m                       Traceback (most recent call last)",
      "Cell \u001b[1;32mIn[2], line 4\u001b[0m\n\u001b[0;32m      2\u001b[0m \u001b[39mimport\u001b[39;00m \u001b[39mpandas\u001b[39;00m \u001b[39mas\u001b[39;00m \u001b[39mpd\u001b[39;00m\n\u001b[0;32m      3\u001b[0m \u001b[39mimport\u001b[39;00m \u001b[39mmatplotlib\u001b[39;00m\u001b[39m.\u001b[39;00m\u001b[39mpyplot\u001b[39;00m \u001b[39mas\u001b[39;00m \u001b[39mplt\u001b[39;00m\n\u001b[1;32m----> 4\u001b[0m \u001b[39mfrom\u001b[39;00m \u001b[39mmoviepy\u001b[39;00m\u001b[39m.\u001b[39;00m\u001b[39meditor\u001b[39;00m \u001b[39mimport\u001b[39;00m VideoClip\n\u001b[0;32m      5\u001b[0m \u001b[39mfrom\u001b[39;00m \u001b[39mmoviepy\u001b[39;00m\u001b[39m.\u001b[39;00m\u001b[39mvideo\u001b[39;00m\u001b[39m.\u001b[39;00m\u001b[39mio\u001b[39;00m\u001b[39m.\u001b[39;00m\u001b[39mbindings\u001b[39;00m \u001b[39mimport\u001b[39;00m mplfig_to_npimage\n\u001b[0;32m      6\u001b[0m \u001b[39mfrom\u001b[39;00m \u001b[39mpydub\u001b[39;00m \u001b[39mimport\u001b[39;00m AudioSegment\n",
      "\u001b[1;31mModuleNotFoundError\u001b[0m: No module named 'moviepy'"
     ]
    }
   ],
   "source": [
    "import numpy as np\n",
    "import pandas as pd\n",
    "import matplotlib.pyplot as plt\n",
    "from moviepy.editor import VideoClip\n",
    "from moviepy.video.io.bindings import mplfig_to_npimage\n",
    "from pydub import AudioSegment\n",
    "\n",
    "# Sample data (replace this with your DataFrame)\n",
    "data = {\n",
    "    'Time': ['00:00', '00:15', '00:30', '00:45'],\n",
    "    'Price': [40000, 41000, 43000, 42000]\n",
    "}\n",
    "\n",
    "df = pd.DataFrame(data)\n",
    "\n",
    "# Function to create frames for the video\n",
    "def make_frame(t):\n",
    "    # Extract the relevant data for the current time 't'\n",
    "    current_data = df[df['Time'] <= t]\n",
    "\n",
    "    # Create a plot\n",
    "    fig, ax = plt.subplots(figsize=(8, 4))\n",
    "    ax.plot(current_data['Time'], current_data['Price'], marker='o', color='b')\n",
    "    ax.set_xlabel('Time')\n",
    "    ax.set_ylabel('Price (USD)')\n",
    "    ax.set_title('Bitcoin Price Action')\n",
    "\n",
    "    # Convert the plot to an image\n",
    "    image = mplfig_to_npimage(fig)\n",
    "    plt.close()\n",
    "\n",
    "    return image\n",
    "\n",
    "# Create the video\n",
    "duration = 30  # seconds\n",
    "frames_per_second = 30\n",
    "animation = VideoClip(make_frame, duration=duration)\n",
    "\n",
    "# Load the WAV audio file\n",
    "audio = AudioSegment.from_wav('your_audio.wav')\n",
    "\n",
    "# Set the audio for the video\n",
    "video_with_audio = animation.set_audio(audio)\n",
    "\n",
    "# Export the video\n",
    "video_with_audio.write_videofile('price_action_video.mp4', fps=frames_per_second)\n"
   ]
  }
 ],
 "metadata": {
  "kernelspec": {
   "display_name": "venv",
   "language": "python",
   "name": "python3"
  },
  "language_info": {
   "codemirror_mode": {
    "name": "ipython",
    "version": 3
   },
   "file_extension": ".py",
   "mimetype": "text/x-python",
   "name": "python",
   "nbconvert_exporter": "python",
   "pygments_lexer": "ipython3",
   "version": "3.11.4"
  },
  "orig_nbformat": 4
 },
 "nbformat": 4,
 "nbformat_minor": 2
}
